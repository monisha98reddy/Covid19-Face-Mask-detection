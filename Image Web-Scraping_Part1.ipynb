{
 "cells": [
  {
   "cell_type": "markdown",
   "metadata": {},
   "source": [
    "# <font color = 'Red'>Implementation of Image Web Scraping</font>"
   ]
  },
  {
   "cell_type": "markdown",
   "metadata": {},
   "source": [
    "## <font color = 'Orange'>Scraping With Mask Dataset</font>"
   ]
  },
  {
   "cell_type": "markdown",
   "metadata": {},
   "source": [
    "### <font color = 'Orange'>Step1. Import all required libraries</font>"
   ]
  },
  {
   "cell_type": "code",
   "execution_count": 7,
   "metadata": {},
   "outputs": [],
   "source": [
    "#Import libraries\n",
    "import os\n",
    "import selenium\n",
    "from selenium import webdriver\n",
    "import time\n",
    "from PIL import Image\n",
    "import io\n",
    "import requests\n",
    "from webdriver_manager.chrome import ChromeDriverManager\n",
    "from selenium.common.exceptions import ElementClickInterceptedException"
   ]
  },
  {
   "cell_type": "markdown",
   "metadata": {},
   "source": [
    "### <font color = 'Orange'>Step2. Install Chrome Driver</font>"
   ]
  },
  {
   "cell_type": "code",
   "execution_count": 8,
   "metadata": {},
   "outputs": [
    {
     "name": "stderr",
     "output_type": "stream",
     "text": [
      "\n",
      "\n",
      "====== WebDriver manager ======\n",
      "Current google-chrome version is 91.0.4472\n",
      "Get LATEST driver version for 91.0.4472\n",
      "Driver [/Users/mons/.wdm/drivers/chromedriver/mac64/91.0.4472.101/chromedriver] found in cache\n"
     ]
    }
   ],
   "source": [
    "#Install Driver\n",
    "driver = webdriver.Chrome(ChromeDriverManager().install())"
   ]
  },
  {
   "cell_type": "markdown",
   "metadata": {},
   "source": [
    "### <font color = 'Orange'>Step3. Specify Search url</font>"
   ]
  },
  {
   "cell_type": "code",
   "execution_count": 9,
   "metadata": {},
   "outputs": [],
   "source": [
    "#Specify Search URL\n",
    "search_url = \"https://www.google.com/search?q={q}&tbm=isch&tbs=sur%3Afc&hl=en&ved=0CAIQpwVqFwoTCKCa1c6s4-oCFQAAAAAdAAAAABAC&biw=1251&bih=568\"\n",
    "driver.get(search_url.format(q='wearing mask'))"
   ]
  },
  {
   "cell_type": "markdown",
   "metadata": {},
   "source": [
    "### <font color = 'Orange'>Step4. Scroll to the end of the page</font>"
   ]
  },
  {
   "cell_type": "code",
   "execution_count": 10,
   "metadata": {},
   "outputs": [],
   "source": [
    "#Scroll to the end of the page\n",
    "driver.execute_script(\"window.scrollTo(0, document.body.scrollHeight);\")\n",
    "time.sleep(5)#sleep_between_interactions  \n"
   ]
  },
  {
   "cell_type": "markdown",
   "metadata": {},
   "source": [
    "### <font color = 'Orange'>Step5. Locate the images to be scraped from the page</font>"
   ]
  },
  {
   "cell_type": "code",
   "execution_count": 11,
   "metadata": {},
   "outputs": [],
   "source": [
    "#Locate the images to be scraped from the current page\n",
    "imgResults = driver.find_elements_by_xpath('//img[contains(@class,\"rg_i\") and contains(@class, \"Q4LuWd\")]')\n",
    "totalResults=len(imgResults)"
   ]
  },
  {
   "cell_type": "markdown",
   "metadata": {},
   "source": [
    "### <font color = 'Orange'>Step6. Extract corresponding link of each Image</font>"
   ]
  },
  {
   "cell_type": "code",
   "execution_count": 12,
   "metadata": {},
   "outputs": [
    {
     "name": "stdout",
     "output_type": "stream",
     "text": [
      "Message: element click intercepted: Element <img src=\"data:image/jpeg;base64,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\" data-deferred=\"1\" class=\"rg_i Q4LuWd\" jsname=\"Q4LuWd\" width=\"194\" height=\"259\" alt=\"Man Wearing Face Mask · Free Stock Photo\" data-iml=\"863.1999999880791\" data-atf=\"false\"> is not clickable at point (119, 537). Other element would receive the click: <div jsname=\"r5xl4\" class=\"islrc\" style=\"width: 440px;\">...</div>\n",
      "  (Session info: chrome=91.0.4472.101)\n",
      "\n"
     ]
    },
    {
     "name": "stdout",
     "output_type": "stream",
     "text": [
      "Message: element click intercepted: Element <img data-ils=\"4\" jsaction=\"rcuQ6b:trigger.M8vzZb;\" class=\"rg_i Q4LuWd\" jsname=\"Q4LuWd\" width=\"145\" height=\"218\" alt=\"HD wallpaper: woman wearing teal mask and gray turtle-neck shirt, woman  wearing grey turtleneck long-sleeved shirt and blue face mask | Wallpaper  Flare\" src=\"https://encrypted-tbn0.gstatic.com/images?q=tbn:ANd9GcQiD35B6gkCXPik9-HWf-ZAdPwd8ADrLY8Wzw&amp;usqp=CAU\"> is not clickable at point (92, 538). Other element would receive the click: <div jsname=\"r5xl4\" class=\"islrc\" style=\"width: 440px;\">...</div>\n",
      "  (Session info: chrome=91.0.4472.101)\n",
      "\n",
      "Message: element click intercepted: Element <img data-ils=\"4\" jsaction=\"rcuQ6b:trigger.M8vzZb;\" class=\"rg_i Q4LuWd\" jsname=\"Q4LuWd\" width=\"174\" height=\"231\" alt=\"woman, wearing, white, headscarf, covering, face, black background,  headshot | Piqsels\" src=\"https://encrypted-tbn0.gstatic.com/images?q=tbn:ANd9GcSLUFRVXelQX_RgkEuvggs_eENo72_eFf95lg&amp;usqp=CAU\"> is not clickable at point (107, 525). Other element would receive the click: <div jsname=\"r5xl4\" class=\"islrc\" style=\"width: 440px;\">...</div>\n",
      "  (Session info: chrome=91.0.4472.101)\n",
      "\n",
      "Message: element click intercepted: Element <img data-ils=\"4\" jsaction=\"rcuQ6b:trigger.M8vzZb;\" class=\"rg_i Q4LuWd\" jsname=\"Q4LuWd\" width=\"225\" height=\"225\" alt=\"Royalty-Free photo: Two Children Wearing Surgical Masks | PickPik\" src=\"https://encrypted-tbn0.gstatic.com/images?q=tbn:ANd9GcRs5p0YSOfiiFvo2Ou-oEUTFwS_zuBMmDKHDA&amp;usqp=CAU\"> is not clickable at point (327, 535). Other element would receive the click: <div jsname=\"r5xl4\" class=\"islrc\" style=\"width: 440px;\">...</div>\n",
      "  (Session info: chrome=91.0.4472.101)\n",
      "\n"
     ]
    },
    {
     "ename": "ElementNotInteractableException",
     "evalue": "Message: element not interactable\n  (Session info: chrome=91.0.4472.101)\n",
     "output_type": "error",
     "traceback": [
      "\u001b[0;31m---------------------------------------------------------------------------\u001b[0m",
      "\u001b[0;31mElementNotInteractableException\u001b[0m           Traceback (most recent call last)",
      "\u001b[0;32m<ipython-input-12-641bada2f5c3>\u001b[0m in \u001b[0;36m<module>\u001b[0;34m\u001b[0m\n\u001b[1;32m      5\u001b[0m     \u001b[0mimg\u001b[0m\u001b[0;34m=\u001b[0m\u001b[0mimgResults\u001b[0m\u001b[0;34m[\u001b[0m\u001b[0mi\u001b[0m\u001b[0;34m]\u001b[0m\u001b[0;34m\u001b[0m\u001b[0;34m\u001b[0m\u001b[0m\n\u001b[1;32m      6\u001b[0m     \u001b[0;32mtry\u001b[0m\u001b[0;34m:\u001b[0m\u001b[0;34m\u001b[0m\u001b[0;34m\u001b[0m\u001b[0m\n\u001b[0;32m----> 7\u001b[0;31m         \u001b[0mimg\u001b[0m\u001b[0;34m.\u001b[0m\u001b[0mclick\u001b[0m\u001b[0;34m(\u001b[0m\u001b[0;34m)\u001b[0m\u001b[0;34m\u001b[0m\u001b[0;34m\u001b[0m\u001b[0m\n\u001b[0m\u001b[1;32m      8\u001b[0m         \u001b[0mtime\u001b[0m\u001b[0;34m.\u001b[0m\u001b[0msleep\u001b[0m\u001b[0;34m(\u001b[0m\u001b[0;36m2\u001b[0m\u001b[0;34m)\u001b[0m\u001b[0;34m\u001b[0m\u001b[0;34m\u001b[0m\u001b[0m\n\u001b[1;32m      9\u001b[0m         \u001b[0mactual_images\u001b[0m \u001b[0;34m=\u001b[0m \u001b[0mdriver\u001b[0m\u001b[0;34m.\u001b[0m\u001b[0mfind_elements_by_css_selector\u001b[0m\u001b[0;34m(\u001b[0m\u001b[0;34m'img.n3VNCb'\u001b[0m\u001b[0;34m)\u001b[0m\u001b[0;34m\u001b[0m\u001b[0;34m\u001b[0m\u001b[0m\n",
      "\u001b[0;32m~/opt/anaconda3/envs/tf/lib/python3.7/site-packages/selenium/webdriver/remote/webelement.py\u001b[0m in \u001b[0;36mclick\u001b[0;34m(self)\u001b[0m\n\u001b[1;32m     78\u001b[0m     \u001b[0;32mdef\u001b[0m \u001b[0mclick\u001b[0m\u001b[0;34m(\u001b[0m\u001b[0mself\u001b[0m\u001b[0;34m)\u001b[0m\u001b[0;34m:\u001b[0m\u001b[0;34m\u001b[0m\u001b[0;34m\u001b[0m\u001b[0m\n\u001b[1;32m     79\u001b[0m         \u001b[0;34m\"\"\"Clicks the element.\"\"\"\u001b[0m\u001b[0;34m\u001b[0m\u001b[0;34m\u001b[0m\u001b[0m\n\u001b[0;32m---> 80\u001b[0;31m         \u001b[0mself\u001b[0m\u001b[0;34m.\u001b[0m\u001b[0m_execute\u001b[0m\u001b[0;34m(\u001b[0m\u001b[0mCommand\u001b[0m\u001b[0;34m.\u001b[0m\u001b[0mCLICK_ELEMENT\u001b[0m\u001b[0;34m)\u001b[0m\u001b[0;34m\u001b[0m\u001b[0;34m\u001b[0m\u001b[0m\n\u001b[0m\u001b[1;32m     81\u001b[0m \u001b[0;34m\u001b[0m\u001b[0m\n\u001b[1;32m     82\u001b[0m     \u001b[0;32mdef\u001b[0m \u001b[0msubmit\u001b[0m\u001b[0;34m(\u001b[0m\u001b[0mself\u001b[0m\u001b[0;34m)\u001b[0m\u001b[0;34m:\u001b[0m\u001b[0;34m\u001b[0m\u001b[0;34m\u001b[0m\u001b[0m\n",
      "\u001b[0;32m~/opt/anaconda3/envs/tf/lib/python3.7/site-packages/selenium/webdriver/remote/webelement.py\u001b[0m in \u001b[0;36m_execute\u001b[0;34m(self, command, params)\u001b[0m\n\u001b[1;32m    631\u001b[0m             \u001b[0mparams\u001b[0m \u001b[0;34m=\u001b[0m \u001b[0;34m{\u001b[0m\u001b[0;34m}\u001b[0m\u001b[0;34m\u001b[0m\u001b[0;34m\u001b[0m\u001b[0m\n\u001b[1;32m    632\u001b[0m         \u001b[0mparams\u001b[0m\u001b[0;34m[\u001b[0m\u001b[0;34m'id'\u001b[0m\u001b[0;34m]\u001b[0m \u001b[0;34m=\u001b[0m \u001b[0mself\u001b[0m\u001b[0;34m.\u001b[0m\u001b[0m_id\u001b[0m\u001b[0;34m\u001b[0m\u001b[0;34m\u001b[0m\u001b[0m\n\u001b[0;32m--> 633\u001b[0;31m         \u001b[0;32mreturn\u001b[0m \u001b[0mself\u001b[0m\u001b[0;34m.\u001b[0m\u001b[0m_parent\u001b[0m\u001b[0;34m.\u001b[0m\u001b[0mexecute\u001b[0m\u001b[0;34m(\u001b[0m\u001b[0mcommand\u001b[0m\u001b[0;34m,\u001b[0m \u001b[0mparams\u001b[0m\u001b[0;34m)\u001b[0m\u001b[0;34m\u001b[0m\u001b[0;34m\u001b[0m\u001b[0m\n\u001b[0m\u001b[1;32m    634\u001b[0m \u001b[0;34m\u001b[0m\u001b[0m\n\u001b[1;32m    635\u001b[0m     \u001b[0;32mdef\u001b[0m \u001b[0mfind_element\u001b[0m\u001b[0;34m(\u001b[0m\u001b[0mself\u001b[0m\u001b[0;34m,\u001b[0m \u001b[0mby\u001b[0m\u001b[0;34m=\u001b[0m\u001b[0mBy\u001b[0m\u001b[0;34m.\u001b[0m\u001b[0mID\u001b[0m\u001b[0;34m,\u001b[0m \u001b[0mvalue\u001b[0m\u001b[0;34m=\u001b[0m\u001b[0;32mNone\u001b[0m\u001b[0;34m)\u001b[0m\u001b[0;34m:\u001b[0m\u001b[0;34m\u001b[0m\u001b[0;34m\u001b[0m\u001b[0m\n",
      "\u001b[0;32m~/opt/anaconda3/envs/tf/lib/python3.7/site-packages/selenium/webdriver/remote/webdriver.py\u001b[0m in \u001b[0;36mexecute\u001b[0;34m(self, driver_command, params)\u001b[0m\n\u001b[1;32m    319\u001b[0m         \u001b[0mresponse\u001b[0m \u001b[0;34m=\u001b[0m \u001b[0mself\u001b[0m\u001b[0;34m.\u001b[0m\u001b[0mcommand_executor\u001b[0m\u001b[0;34m.\u001b[0m\u001b[0mexecute\u001b[0m\u001b[0;34m(\u001b[0m\u001b[0mdriver_command\u001b[0m\u001b[0;34m,\u001b[0m \u001b[0mparams\u001b[0m\u001b[0;34m)\u001b[0m\u001b[0;34m\u001b[0m\u001b[0;34m\u001b[0m\u001b[0m\n\u001b[1;32m    320\u001b[0m         \u001b[0;32mif\u001b[0m \u001b[0mresponse\u001b[0m\u001b[0;34m:\u001b[0m\u001b[0;34m\u001b[0m\u001b[0;34m\u001b[0m\u001b[0m\n\u001b[0;32m--> 321\u001b[0;31m             \u001b[0mself\u001b[0m\u001b[0;34m.\u001b[0m\u001b[0merror_handler\u001b[0m\u001b[0;34m.\u001b[0m\u001b[0mcheck_response\u001b[0m\u001b[0;34m(\u001b[0m\u001b[0mresponse\u001b[0m\u001b[0;34m)\u001b[0m\u001b[0;34m\u001b[0m\u001b[0;34m\u001b[0m\u001b[0m\n\u001b[0m\u001b[1;32m    322\u001b[0m             response['value'] = self._unwrap_value(\n\u001b[1;32m    323\u001b[0m                 response.get('value', None))\n",
      "\u001b[0;32m~/opt/anaconda3/envs/tf/lib/python3.7/site-packages/selenium/webdriver/remote/errorhandler.py\u001b[0m in \u001b[0;36mcheck_response\u001b[0;34m(self, response)\u001b[0m\n\u001b[1;32m    240\u001b[0m                 \u001b[0malert_text\u001b[0m \u001b[0;34m=\u001b[0m \u001b[0mvalue\u001b[0m\u001b[0;34m[\u001b[0m\u001b[0;34m'alert'\u001b[0m\u001b[0;34m]\u001b[0m\u001b[0;34m.\u001b[0m\u001b[0mget\u001b[0m\u001b[0;34m(\u001b[0m\u001b[0;34m'text'\u001b[0m\u001b[0;34m)\u001b[0m\u001b[0;34m\u001b[0m\u001b[0;34m\u001b[0m\u001b[0m\n\u001b[1;32m    241\u001b[0m             \u001b[0;32mraise\u001b[0m \u001b[0mexception_class\u001b[0m\u001b[0;34m(\u001b[0m\u001b[0mmessage\u001b[0m\u001b[0;34m,\u001b[0m \u001b[0mscreen\u001b[0m\u001b[0;34m,\u001b[0m \u001b[0mstacktrace\u001b[0m\u001b[0;34m,\u001b[0m \u001b[0malert_text\u001b[0m\u001b[0;34m)\u001b[0m\u001b[0;34m\u001b[0m\u001b[0;34m\u001b[0m\u001b[0m\n\u001b[0;32m--> 242\u001b[0;31m         \u001b[0;32mraise\u001b[0m \u001b[0mexception_class\u001b[0m\u001b[0;34m(\u001b[0m\u001b[0mmessage\u001b[0m\u001b[0;34m,\u001b[0m \u001b[0mscreen\u001b[0m\u001b[0;34m,\u001b[0m \u001b[0mstacktrace\u001b[0m\u001b[0;34m)\u001b[0m\u001b[0;34m\u001b[0m\u001b[0;34m\u001b[0m\u001b[0m\n\u001b[0m\u001b[1;32m    243\u001b[0m \u001b[0;34m\u001b[0m\u001b[0m\n\u001b[1;32m    244\u001b[0m     \u001b[0;32mdef\u001b[0m \u001b[0m_value_or_default\u001b[0m\u001b[0;34m(\u001b[0m\u001b[0mself\u001b[0m\u001b[0;34m,\u001b[0m \u001b[0mobj\u001b[0m\u001b[0;34m,\u001b[0m \u001b[0mkey\u001b[0m\u001b[0;34m,\u001b[0m \u001b[0mdefault\u001b[0m\u001b[0;34m)\u001b[0m\u001b[0;34m:\u001b[0m\u001b[0;34m\u001b[0m\u001b[0;34m\u001b[0m\u001b[0m\n",
      "\u001b[0;31mElementNotInteractableException\u001b[0m: Message: element not interactable\n  (Session info: chrome=91.0.4472.101)\n"
     ]
    }
   ],
   "source": [
    "#Click on each Image to extract its corresponding link to download\n",
    "\n",
    "img_urls = set()\n",
    "for i in  range(0,len(imgResults)):\n",
    "    img=imgResults[i]\n",
    "    try:\n",
    "        img.click()\n",
    "        time.sleep(2)\n",
    "        actual_images = driver.find_elements_by_css_selector('img.n3VNCb')\n",
    "        for actual_image in actual_images:\n",
    "            if actual_image.get_attribute('src') and 'https' in actual_image.get_attribute('src'):\n",
    "                img_urls.add(actual_image.get_attribute('src'))\n",
    "    except ElementClickInterceptedException or ElementNotInteractableException as err:\n",
    "        print(err)"
   ]
  },
  {
   "cell_type": "markdown",
   "metadata": {},
   "source": [
    "### <font color = 'Orange'>Step7. Download & save each image in Destination directory</font>"
   ]
  },
  {
   "cell_type": "code",
   "execution_count": 13,
   "metadata": {},
   "outputs": [
    {
     "name": "stdout",
     "output_type": "stream",
     "text": [
      "SAVED - https://encrypted-tbn0.gstatic.com/images?q=tbn:ANd9GcRHhj3zarfJ9YZSe--6rXNLzxGsjcoXIjar_w&usqp=CAU - AT: /Users/mons/Desktop/mask/                                                                                                                                                                                                                                                         0.jpg\n",
      "SAVED - https://encrypted-tbn0.gstatic.com/images?q=tbn:ANd9GcTQZfzIhkV_oz6hveXPyrVDNibladbo0m5DAA&usqp=CAU - AT: /Users/mons/Desktop/mask/                                                                                                                                                                                                                                                         1.jpg\n",
      "SAVED - https://encrypted-tbn0.gstatic.com/images?q=tbn:ANd9GcQiD35B6gkCXPik9-HWf-ZAdPwd8ADrLY8Wzw&usqp=CAU - AT: /Users/mons/Desktop/mask/                                                                                                                                                                                                                                                         2.jpg\n",
      "SAVED - https://encrypted-tbn0.gstatic.com/images?q=tbn:ANd9GcStuVeFJuwMPfAmYarXWpTi4C7rh9H476Pbag&usqp=CAU - AT: /Users/mons/Desktop/mask/                                                                                                                                                                                                                                                         3.jpg\n",
      "SAVED - https://encrypted-tbn0.gstatic.com/images?q=tbn:ANd9GcRE2LtL7-BYUOhSo6Uptp87QZoQXXzDdx4iEA&usqp=CAU - AT: /Users/mons/Desktop/mask/                                                                                                                                                                                                                                                         4.jpg\n",
      "SAVED - https://encrypted-tbn0.gstatic.com/images?q=tbn:ANd9GcTywK474hyD265AOUv6qvhBcJ3MlOBZz29fLQ&usqp=CAU - AT: /Users/mons/Desktop/mask/                                                                                                                                                                                                                                                         5.jpg\n",
      "SAVED - https://encrypted-tbn0.gstatic.com/images?q=tbn:ANd9GcR8ZomoUfqvFdSY8kTUZSeU2xvSqJJZjM_wlA&usqp=CAU - AT: /Users/mons/Desktop/mask/                                                                                                                                                                                                                                                         6.jpg\n",
      "SAVED - https://encrypted-tbn0.gstatic.com/images?q=tbn:ANd9GcQ4AVFHnhcJ4Vta7chedkdYhw8AVJp8mViScg&usqp=CAU - AT: /Users/mons/Desktop/mask/                                                                                                                                                                                                                                                         7.jpg\n",
      "SAVED - https://encrypted-tbn0.gstatic.com/images?q=tbn:ANd9GcT-3XHi0RUWnk1mbTvjs6ZoY462lMhnTpmTTQ&usqp=CAU - AT: /Users/mons/Desktop/mask/                                                                                                                                                                                                                                                         8.jpg\n",
      "SAVED - https://encrypted-tbn0.gstatic.com/images?q=tbn:ANd9GcRYNNlyJ_iAzhv5XCWb93PLpJjWlt2zboNXsQ&usqp=CAU - AT: /Users/mons/Desktop/mask/                                                                                                                                                                                                                                                         9.jpg\n",
      "SAVED - https://encrypted-tbn0.gstatic.com/images?q=tbn:ANd9GcSDZxMeRuEZ-vCQoPbMxikvq99cd-kIQyQ5Vg&usqp=CAU - AT: /Users/mons/Desktop/mask/                                                                                                                                                                                                                                                        10.jpg\n",
      "SAVED - https://encrypted-tbn0.gstatic.com/images?q=tbn:ANd9GcSPHzFUma03SVb8ZTcR0OILN1TYFNZC1G7JOw&usqp=CAU - AT: /Users/mons/Desktop/mask/                                                                                                                                                                                                                                                        11.jpg\n",
      "SAVED - https://encrypted-tbn0.gstatic.com/images?q=tbn:ANd9GcSQC8Mmor3aXsdk-Y7tIt0usxh_YPvJYQ6A1Q&usqp=CAU - AT: /Users/mons/Desktop/mask/                                                                                                                                                                                                                                                        12.jpg\n",
      "SAVED - https://encrypted-tbn0.gstatic.com/images?q=tbn:ANd9GcRXC7kjPIMMAHL_D96sTRGdpFR6JDEByYgn2Q&usqp=CAU - AT: /Users/mons/Desktop/mask/                                                                                                                                                                                                                                                        13.jpg\n",
      "SAVED - https://encrypted-tbn0.gstatic.com/images?q=tbn:ANd9GcQL3fVN1saEA-7NHeRFVInwWvy7MXl4QuKYUw&usqp=CAU - AT: /Users/mons/Desktop/mask/                                                                                                                                                                                                                                                        14.jpg\n",
      "SAVED - https://encrypted-tbn0.gstatic.com/images?q=tbn:ANd9GcRVqaMrm4ACwY-MK2feSRlYV1cW288LiqRRNg&usqp=CAU - AT: /Users/mons/Desktop/mask/                                                                                                                                                                                                                                                        15.jpg\n",
      "SAVED - https://encrypted-tbn0.gstatic.com/images?q=tbn:ANd9GcSncXG0SDFsULjZHgcI_5d5e3BL_SGiU1z6_w&usqp=CAU - AT: /Users/mons/Desktop/mask/                                                                                                                                                                                                                                                        16.jpg\n",
      "SAVED - https://encrypted-tbn0.gstatic.com/images?q=tbn:ANd9GcSTc3jNdvaqA7jfY_2w69fypcRV6ONhXB8u0Q&usqp=CAU - AT: /Users/mons/Desktop/mask/                                                                                                                                                                                                                                                        17.jpg\n",
      "SAVED - https://encrypted-tbn0.gstatic.com/images?q=tbn:ANd9GcQJWVYNKSOG3_-XwbzKVqpL46F79TpSO4APrQ&usqp=CAU - AT: /Users/mons/Desktop/mask/                                                                                                                                                                                                                                                        18.jpg\n",
      "SAVED - https://encrypted-tbn0.gstatic.com/images?q=tbn:ANd9GcTjePJis8mhqlBvZvK5DSmlkbtCyXr7k6c6BQ&usqp=CAU - AT: /Users/mons/Desktop/mask/                                                                                                                                                                                                                                                        19.jpg\n",
      "SAVED - https://encrypted-tbn0.gstatic.com/images?q=tbn:ANd9GcSDq1q3EoczWWC86NoI7DmHOCmyEo14cwaZQg&usqp=CAU - AT: /Users/mons/Desktop/mask/                                                                                                                                                                                                                                                        20.jpg\n"
     ]
    },
    {
     "name": "stdout",
     "output_type": "stream",
     "text": [
      "SAVED - https://encrypted-tbn0.gstatic.com/images?q=tbn:ANd9GcSO8YuxIKQ47Xp-vdiyPAgFuA6UV-h-fGdbEA&usqp=CAU - AT: /Users/mons/Desktop/mask/                                                                                                                                                                                                                                                        21.jpg\n",
      "SAVED - https://encrypted-tbn0.gstatic.com/images?q=tbn:ANd9GcSu9uvDlwRnsjY4PiuvPmnB-RdGbDbK73a67Q&usqp=CAU - AT: /Users/mons/Desktop/mask/                                                                                                                                                                                                                                                        22.jpg\n",
      "SAVED - https://encrypted-tbn0.gstatic.com/images?q=tbn:ANd9GcT-9jw_y6fJY2e-Wsdf9raxDhoYSleWwZlq-w&usqp=CAU - AT: /Users/mons/Desktop/mask/                                                                                                                                                                                                                                                        23.jpg\n",
      "SAVED - https://encrypted-tbn0.gstatic.com/images?q=tbn:ANd9GcRv2XMJYAoY9z5UdvProd4SxlsSqKv-lUuxew&usqp=CAU - AT: /Users/mons/Desktop/mask/                                                                                                                                                                                                                                                        24.jpg\n",
      "SAVED - https://encrypted-tbn0.gstatic.com/images?q=tbn:ANd9GcQHZz6Ov-H_il_1KwmtAZcMmAz7HOEVHVdVig&usqp=CAU - AT: /Users/mons/Desktop/mask/                                                                                                                                                                                                                                                        25.jpg\n",
      "SAVED - https://encrypted-tbn0.gstatic.com/images?q=tbn:ANd9GcT9D0vxgCJh9niC9d3NJt5cWSRJnt0hZGOfoA&usqp=CAU - AT: /Users/mons/Desktop/mask/                                                                                                                                                                                                                                                        26.jpg\n",
      "SAVED - https://encrypted-tbn0.gstatic.com/images?q=tbn:ANd9GcRs5p0YSOfiiFvo2Ou-oEUTFwS_zuBMmDKHDA&usqp=CAU - AT: /Users/mons/Desktop/mask/                                                                                                                                                                                                                                                        27.jpg\n",
      "SAVED - https://encrypted-tbn0.gstatic.com/images?q=tbn:ANd9GcSpiV-P_lcKLUO7gIAr3J1HwxolNIzw-ZIAOg&usqp=CAU - AT: /Users/mons/Desktop/mask/                                                                                                                                                                                                                                                        28.jpg\n",
      "SAVED - https://encrypted-tbn0.gstatic.com/images?q=tbn:ANd9GcQFp3S07S6xzDlxpbOHnG_dsEFRhPskWyfKkw&usqp=CAU - AT: /Users/mons/Desktop/mask/                                                                                                                                                                                                                                                        29.jpg\n",
      "SAVED - https://encrypted-tbn0.gstatic.com/images?q=tbn:ANd9GcT2ZoOXo_XfbAysV9M1iC9NMk4H-MO3kTrX0Q&usqp=CAU - AT: /Users/mons/Desktop/mask/                                                                                                                                                                                                                                                        30.jpg\n",
      "SAVED - https://encrypted-tbn0.gstatic.com/images?q=tbn:ANd9GcQg1-v2HPDfEo7FYMR8gCi0hba1imI8Uw4Xlw&usqp=CAU - AT: /Users/mons/Desktop/mask/                                                                                                                                                                                                                                                        31.jpg\n",
      "SAVED - https://encrypted-tbn0.gstatic.com/images?q=tbn:ANd9GcRm6LogslNXkrXvDPbX9zJIePf1u0Z1i8UApg&usqp=CAU - AT: /Users/mons/Desktop/mask/                                                                                                                                                                                                                                                        32.jpg\n",
      "SAVED - https://encrypted-tbn0.gstatic.com/images?q=tbn:ANd9GcQiNzuKz8LDPMIF5ZGQSFnCi81sdXypcomLTg&usqp=CAU - AT: /Users/mons/Desktop/mask/                                                                                                                                                                                                                                                        33.jpg\n",
      "SAVED - https://encrypted-tbn0.gstatic.com/images?q=tbn:ANd9GcTOvQ-2lMvZwxJmgD2teDXG6cBWVy2Cxlj1Fw&usqp=CAU - AT: /Users/mons/Desktop/mask/                                                                                                                                                                                                                                                        34.jpg\n",
      "SAVED - https://encrypted-tbn0.gstatic.com/images?q=tbn:ANd9GcTLwmTIHjZ3YH4fMplaxQM2HnFHL2o8y6ezkg&usqp=CAU - AT: /Users/mons/Desktop/mask/                                                                                                                                                                                                                                                        35.jpg\n",
      "SAVED - https://encrypted-tbn0.gstatic.com/images?q=tbn:ANd9GcRo6tHaz8GWclRLH_mo1HFKP5EmSvceZW6xNg&usqp=CAU - AT: /Users/mons/Desktop/mask/                                                                                                                                                                                                                                                        36.jpg\n",
      "SAVED - https://encrypted-tbn0.gstatic.com/images?q=tbn:ANd9GcQbCtKiOE1iqz-fQjE2bS9ONmxfMVDySIpbJA&usqp=CAU - AT: /Users/mons/Desktop/mask/                                                                                                                                                                                                                                                        37.jpg\n",
      "SAVED - https://encrypted-tbn0.gstatic.com/images?q=tbn:ANd9GcR08Dfp95Ucj66ZJN8oKc1j7IJYAXvO1LRjqQ&usqp=CAU - AT: /Users/mons/Desktop/mask/                                                                                                                                                                                                                                                        38.jpg\n",
      "SAVED - https://encrypted-tbn0.gstatic.com/images?q=tbn:ANd9GcSGav2pgivVxH5c1v3KM0LnwqXNIjgAwVVnZQ&usqp=CAU - AT: /Users/mons/Desktop/mask/                                                                                                                                                                                                                                                        39.jpg\n",
      "SAVED - https://encrypted-tbn0.gstatic.com/images?q=tbn:ANd9GcRNORdJykA2doakHOvSnMoyZfRu0i1-dW7n7A&usqp=CAU - AT: /Users/mons/Desktop/mask/                                                                                                                                                                                                                                                        40.jpg\n",
      "SAVED - https://encrypted-tbn0.gstatic.com/images?q=tbn:ANd9GcSEWC-shx23lpUAlCgPkyHb3L19tvuIzUv84g&usqp=CAU - AT: /Users/mons/Desktop/mask/                                                                                                                                                                                                                                                        41.jpg\n",
      "SAVED - https://encrypted-tbn0.gstatic.com/images?q=tbn:ANd9GcTQk_mbgp_35_PexrTI8wVTLyJxWrmrqPG1cg&usqp=CAU - AT: /Users/mons/Desktop/mask/                                                                                                                                                                                                                                                        42.jpg\n"
     ]
    },
    {
     "name": "stdout",
     "output_type": "stream",
     "text": [
      "SAVED - https://encrypted-tbn0.gstatic.com/images?q=tbn:ANd9GcS2Ip1RCG7W82fjCKIk0bYcdNiXgSbhnAjskQ&usqp=CAU - AT: /Users/mons/Desktop/mask/                                                                                                                                                                                                                                                        43.jpg\n",
      "SAVED - https://encrypted-tbn0.gstatic.com/images?q=tbn:ANd9GcQyH6lTOgY-c9Xk7MPksVhhrBIItbWILTtUeQ&usqp=CAU - AT: /Users/mons/Desktop/mask/                                                                                                                                                                                                                                                        44.jpg\n",
      "SAVED - https://encrypted-tbn0.gstatic.com/images?q=tbn:ANd9GcQ0gHUijI9iZ06mL23htpBv6TnibWphfFtb8g&usqp=CAU - AT: /Users/mons/Desktop/mask/                                                                                                                                                                                                                                                        45.jpg\n",
      "SAVED - https://encrypted-tbn0.gstatic.com/images?q=tbn:ANd9GcQKiU2NIeadpykqzLHEu9FmBlCi3nbmhQpdeQ&usqp=CAU - AT: /Users/mons/Desktop/mask/                                                                                                                                                                                                                                                        46.jpg\n",
      "SAVED - https://encrypted-tbn0.gstatic.com/images?q=tbn:ANd9GcQq3CYiaZNkzI4p6UYHS_Hps7XZgaR0uA2K4g&usqp=CAU - AT: /Users/mons/Desktop/mask/                                                                                                                                                                                                                                                        47.jpg\n",
      "SAVED - https://encrypted-tbn0.gstatic.com/images?q=tbn:ANd9GcSWKODZxI2TV-56GJLjqwQRcXdGo1oWG9NeNg&usqp=CAU - AT: /Users/mons/Desktop/mask/                                                                                                                                                                                                                                                        48.jpg\n",
      "SAVED - https://encrypted-tbn0.gstatic.com/images?q=tbn:ANd9GcR1nr4MZXonpYM9t9FZrUs8vWVeIENbQ0qwZg&usqp=CAU - AT: /Users/mons/Desktop/mask/                                                                                                                                                                                                                                                        49.jpg\n",
      "SAVED - https://encrypted-tbn0.gstatic.com/images?q=tbn:ANd9GcRYwCWPvFymdTUBZunOlsbIfrBDIW9ErWTClw&usqp=CAU - AT: /Users/mons/Desktop/mask/                                                                                                                                                                                                                                                        50.jpg\n",
      "SAVED - https://encrypted-tbn0.gstatic.com/images?q=tbn:ANd9GcQLCrG2f08eCtzrid8idH_EudwJXG1HQ32TrA&usqp=CAU - AT: /Users/mons/Desktop/mask/                                                                                                                                                                                                                                                        51.jpg\n",
      "SAVED - https://encrypted-tbn0.gstatic.com/images?q=tbn:ANd9GcSLUFRVXelQX_RgkEuvggs_eENo72_eFf95lg&usqp=CAU - AT: /Users/mons/Desktop/mask/                                                                                                                                                                                                                                                        52.jpg\n",
      "SAVED - https://encrypted-tbn0.gstatic.com/images?q=tbn:ANd9GcSt9xD9sGIxGCmdFyualaDMYozBnm46XqTbdQ&usqp=CAU - AT: /Users/mons/Desktop/mask/                                                                                                                                                                                                                                                        53.jpg\n",
      "SAVED - https://encrypted-tbn0.gstatic.com/images?q=tbn:ANd9GcRhL2RAqpje-Uh58uwe_Lxu31FIRMTAwi6y_A&usqp=CAU - AT: /Users/mons/Desktop/mask/                                                                                                                                                                                                                                                        54.jpg\n",
      "SAVED - https://encrypted-tbn0.gstatic.com/images?q=tbn:ANd9GcTB5oIv14Vb-s7uOUwE_V3Y7H0Ryc2UgXkRww&usqp=CAU - AT: /Users/mons/Desktop/mask/                                                                                                                                                                                                                                                        55.jpg\n"
     ]
    }
   ],
   "source": [
    "os.chdir('/Users/mons/Desktop/DL project/data/mask')\n",
    "baseDir=os.getcwd()\n",
    "\n",
    "for i, url in enumerate(img_urls):\n",
    "    file_name = f\"{i:250}.jpg\"    \n",
    "    try:\n",
    "        image_content = requests.get(url).content\n",
    "\n",
    "    except Exception as e:\n",
    "        print(f\"ERROR - COULD NOT DOWNLOAD {url} - {e}\")\n",
    "\n",
    "    try:\n",
    "        image_file = io.BytesIO(image_content)\n",
    "        image = Image.open(image_file).convert('RGB')\n",
    "        \n",
    "        file_path = os.path.join(baseDir, file_name)\n",
    "        \n",
    "        with open(file_path, 'wb') as f:\n",
    "            image.save(f, \"JPEG\", quality=85)\n",
    "        print(f\"SAVED - {url} - AT: {file_path}\")\n",
    "    except Exception as e:\n",
    "        print(f\"ERROR - COULD NOT SAVE {url} - {e}\")"
   ]
  },
  {
   "cell_type": "markdown",
   "metadata": {},
   "source": [
    "## <font color = 'Orange'>Scraping No Mask Dataset</font>"
   ]
  },
  {
   "cell_type": "code",
   "execution_count": 14,
   "metadata": {},
   "outputs": [
    {
     "name": "stderr",
     "output_type": "stream",
     "text": [
      "\n",
      "\n",
      "====== WebDriver manager ======\n",
      "Current google-chrome version is 91.0.4472\n",
      "Get LATEST driver version for 91.0.4472\n",
      "Driver [/Users/mons/.wdm/drivers/chromedriver/mac64/91.0.4472.101/chromedriver] found in cache\n"
     ]
    }
   ],
   "source": [
    "#Install Driver\n",
    "driver = webdriver.Chrome(ChromeDriverManager().install())"
   ]
  },
  {
   "cell_type": "code",
   "execution_count": 16,
   "metadata": {},
   "outputs": [],
   "source": [
    "#Specify Search URL\n",
    "search_url = \"https://www.google.com/search?q=person+images&tbm=isch&ved=2ahUKEwiBhNGa6JTxAhXbLSsKHToXAd4Q2-cCegQIABAA&oq=person+images&gs_lcp=CgNpbWcQAzICCAAyAggAMgIIADICCAAyAggAMgIIADICCAAyAggAMgIIADICCAA6BwgjEOoCECc6BAgjECc6BAgAEEM6BQgAELEDOgcIABCxAxBDUIM1WOFYYLFaaAJwAHgAgAGBAYgB9gmSAQQxMi4ymAEAoAEBqgELZ3dzLXdpei1pbWewAQrAAQE&sclient=img&ei=WhXGYIHvHtvbrAG6roTwDQ&bih=689&biw=1280\"\n",
    "driver.get(search_url.format(q='not wearing mask'))"
   ]
  },
  {
   "cell_type": "code",
   "execution_count": 17,
   "metadata": {},
   "outputs": [],
   "source": [
    "#Scroll to the end of the page\n",
    "driver.execute_script(\"window.scrollTo(0, document.body.scrollHeight);\")\n",
    "time.sleep(5)#sleep_between_interactions  "
   ]
  },
  {
   "cell_type": "code",
   "execution_count": 18,
   "metadata": {},
   "outputs": [],
   "source": [
    "#Locate the images to be scraped from the current page\n",
    "imgResults = driver.find_elements_by_xpath('//img[contains(@class,\"rg_i\") and contains(@class, \"Q4LuWd\")]')\n",
    "totalResults=len(imgResults)"
   ]
  },
  {
   "cell_type": "code",
   "execution_count": 19,
   "metadata": {},
   "outputs": [
    {
     "name": "stdout",
     "output_type": "stream",
     "text": [
      "Message: element click intercepted: Element <img data-ils=\"4\" jsaction=\"rcuQ6b:trigger.M8vzZb;\" class=\"rg_i Q4LuWd\" jsname=\"Q4LuWd\" width=\"145\" height=\"218\" alt=\"300,000+ Best Person Photos · 100% Free Download · Pexels Stock Photos\" src=\"https://encrypted-tbn0.gstatic.com/images?q=tbn:ANd9GcSZKtdoYgBrGLeu8xaVACCyfE6CcD8SbZAdjQ&amp;usqp=CAU\"> is not clickable at point (92, 538). Other element would receive the click: <div jsname=\"r5xl4\" class=\"islrc\" style=\"width: 682px;\">...</div>\n",
      "  (Session info: chrome=91.0.4472.101)\n",
      "\n"
     ]
    }
   ],
   "source": [
    "#Click on each Image to extract its corresponding link to download\n",
    "\n",
    "img_urls = set()\n",
    "for i in  range(0,len(imgResults)):\n",
    "    img=imgResults[i]\n",
    "    try:\n",
    "        img.click()\n",
    "        time.sleep(2)\n",
    "        actual_images = driver.find_elements_by_css_selector('img.n3VNCb')\n",
    "        for actual_image in actual_images:\n",
    "            if actual_image.get_attribute('src') and 'https' in actual_image.get_attribute('src'):\n",
    "                img_urls.add(actual_image.get_attribute('src'))\n",
    "    except ElementClickInterceptedException or ElementNotInteractableException as err:\n",
    "        print(err)"
   ]
  },
  {
   "cell_type": "code",
   "execution_count": 22,
   "metadata": {},
   "outputs": [
    {
     "name": "stdout",
     "output_type": "stream",
     "text": [
      "SAVED - https://encrypted-tbn0.gstatic.com/images?q=tbn:ANd9GcQi8TBDW57ModHYlAdhqR1uU7Hq5ZVVh-nkFA&usqp=CAU - AT: /Users/mons/Desktop/nomask/                                                                                                                                                                                                                                                         0.jpg\n",
      "SAVED - https://encrypted-tbn0.gstatic.com/images?q=tbn:ANd9GcR0rfm7ulLh-hULWlR8NBtrIwRCCWql8VQ9zw&usqp=CAU - AT: /Users/mons/Desktop/nomask/                                                                                                                                                                                                                                                         1.jpg\n",
      "SAVED - https://encrypted-tbn0.gstatic.com/images?q=tbn:ANd9GcTajClwx0LhTrM8e6jvdc6hRwPRfIZ-lNlqIg&usqp=CAU - AT: /Users/mons/Desktop/nomask/                                                                                                                                                                                                                                                         2.jpg\n",
      "SAVED - https://s3-us-east-2.amazonaws.com/matter-blog/2020/09/People_Person_Cover_Image.png - AT: /Users/mons/Desktop/nomask/                                                                                                                                                                                                                                                         3.jpg\n",
      "SAVED - https://image.shutterstock.com/image-vector/crowd-people-performing-spring-summer-260nw-1911389713.jpg - AT: /Users/mons/Desktop/nomask/                                                                                                                                                                                                                                                         4.jpg\n",
      "SAVED - https://encrypted-tbn0.gstatic.com/images?q=tbn:ANd9GcTW9jb55aLIrHZUcHe0mIc887xuF8CB4CbHuQ&usqp=CAU - AT: /Users/mons/Desktop/nomask/                                                                                                                                                                                                                                                         5.jpg\n",
      "SAVED - https://st3.depositphotos.com/12985848/16098/i/600/depositphotos_160982490-stock-photo-confident-businesswoman-in-formal-wear.jpg - AT: /Users/mons/Desktop/nomask/                                                                                                                                                                                                                                                         6.jpg\n",
      "SAVED - https://images.pexels.com/photos/3310693/pexels-photo-3310693.jpeg?auto=compress&cs=tinysrgb&dpr=1&w=500 - AT: /Users/mons/Desktop/nomask/                                                                                                                                                                                                                                                         7.jpg\n",
      "ERROR - COULD NOT SAVE https://www.timeshighereducation.com/student/sites/default/files/styles/default/public/byline_photos/charlie_pullen.jpeg?itok=cXvZSd7M - cannot identify image file <_io.BytesIO object at 0x7f9821f008f0>\n",
      "SAVED - https://encrypted-tbn0.gstatic.com/images?q=tbn:ANd9GcTu7fWIFm7j2Oz0gFHTNp1fskSWJDbi_EUD2Q&usqp=CAU - AT: /Users/mons/Desktop/nomask/                                                                                                                                                                                                                                                         9.jpg\n",
      "SAVED - https://miro.medium.com/max/2048/1*i-3IogWkftzf3wwjnZ2Nbg.png - AT: /Users/mons/Desktop/nomask/                                                                                                                                                                                                                                                        10.jpg\n",
      "SAVED - https://www.incimages.com/uploaded_files/image/1920x1080/getty_624206636_200013332000928034_376810.jpg - AT: /Users/mons/Desktop/nomask/                                                                                                                                                                                                                                                        11.jpg\n",
      "SAVED - https://st.adda247.com/https://wpassets.adda247.com/wp-content/uploads/multisite/sites/5/2020/10/11135156/Dr-Jajinii.jpg - AT: /Users/mons/Desktop/nomask/                                                                                                                                                                                                                                                        12.jpg\n",
      "SAVED - https://image.shutterstock.com/image-photo/riga-latvia-26082017-group-people-260nw-1554807827.jpg - AT: /Users/mons/Desktop/nomask/                                                                                                                                                                                                                                                        13.jpg\n",
      "SAVED - https://encrypted-tbn0.gstatic.com/images?q=tbn:ANd9GcSd6Ys_aOGa2VIETywfzAMNBiy09pkboThw_w&usqp=CAU - AT: /Users/mons/Desktop/nomask/                                                                                                                                                                                                                                                        14.jpg\n",
      "SAVED - https://encrypted-tbn0.gstatic.com/images?q=tbn:ANd9GcS7hueF6OrcUfa0fy8vLALaq-cHMG5QBoRIAQ&usqp=CAU - AT: /Users/mons/Desktop/nomask/                                                                                                                                                                                                                                                        15.jpg\n",
      "ERROR - COULD NOT SAVE https://www.publicdomainpictures.net/pictures/270000/velka/avatar-people-person-business-.jpg - cannot identify image file <_io.BytesIO object at 0x7f9821f00f50>\n",
      "SAVED - https://img.freepik.com/free-photo/handsome-young-businessman-shirt-eyeglasses_85574-6228.jpg?size=626&ext=jpg - AT: /Users/mons/Desktop/nomask/                                                                                                                                                                                                                                                        17.jpg\n",
      "SAVED - https://thumbs.dreamstime.com/b/surprised-female-person-confused-isolated-surprised-female-person-confused-isolated-168304856.jpg - AT: /Users/mons/Desktop/nomask/                                                                                                                                                                                                                                                        18.jpg\n",
      "SAVED - https://image.shutterstock.com/image-photo/closeup-photo-amazing-short-hairdo-260nw-1617540484.jpg - AT: /Users/mons/Desktop/nomask/                                                                                                                                                                                                                                                        19.jpg\n",
      "SAVED - https://encrypted-tbn0.gstatic.com/images?q=tbn:ANd9GcSQXZIpf97ZyU1npU2MuY4xqP0u-Kajev5rTQ&usqp=CAU - AT: /Users/mons/Desktop/nomask/                                                                                                                                                                                                                                                        20.jpg\n",
      "SAVED - https://encrypted-tbn0.gstatic.com/images?q=tbn:ANd9GcRo4zGSr25cTfr__JnNBlxju18g9geM7uir_g&usqp=CAU - AT: /Users/mons/Desktop/nomask/                                                                                                                                                                                                                                                        21.jpg\n",
      "SAVED - https://images.pexels.com/photos/1933873/pexels-photo-1933873.jpeg?auto=compress&cs=tinysrgb&dpr=1&w=500 - AT: /Users/mons/Desktop/nomask/                                                                                                                                                                                                                                                        22.jpg\n"
     ]
    },
    {
     "name": "stdout",
     "output_type": "stream",
     "text": [
      "SAVED - https://encrypted-tbn0.gstatic.com/images?q=tbn:ANd9GcRuWlKVGJeILLo6n3_-9GgvdvWyz7MJbC1o7g&usqp=CAU - AT: /Users/mons/Desktop/nomask/                                                                                                                                                                                                                                                        23.jpg\n",
      "SAVED - https://www.theglobeandmail.com/resizer/wgr5EMgEXIOcA7rDmsy1uNcjl6E=/1200x0/filters:quality(80)/cloudfront-us-east-1.images.arcpublishing.com/tgam/KCRVJFVYN5DQNOKI5YFY4PGAXE.jpg - AT: /Users/mons/Desktop/nomask/                                                                                                                                                                                                                                                        24.jpg\n",
      "SAVED - https://encrypted-tbn0.gstatic.com/images?q=tbn:ANd9GcTCc2ULjz_BX_a91BvhR-9tXfknyrIDOoFGfQ&usqp=CAU - AT: /Users/mons/Desktop/nomask/                                                                                                                                                                                                                                                        25.jpg\n",
      "SAVED - https://encrypted-tbn0.gstatic.com/images?q=tbn:ANd9GcRe2lJebenAeZxRDPAKbIeiVumyA9M0n4r7Xg&usqp=CAU - AT: /Users/mons/Desktop/nomask/                                                                                                                                                                                                                                                        26.jpg\n",
      "SAVED - https://imgix.bustle.com/rehost/2016/9/13/98c6b94f-014a-467a-80b0-0167b9796329.jpg?w=800&fit=crop&crop=faces&auto=format%2Ccompress - AT: /Users/mons/Desktop/nomask/                                                                                                                                                                                                                                                        27.jpg\n",
      "SAVED - https://storage.needpix.com/rsynced_images/man-388104_1280.jpg - AT: /Users/mons/Desktop/nomask/                                                                                                                                                                                                                                                        28.jpg\n",
      "SAVED - https://encrypted-tbn0.gstatic.com/images?q=tbn:ANd9GcQMf8YzraxK-a2SRCVKXHB-NuIM-GqJINGKwA&usqp=CAU - AT: /Users/mons/Desktop/nomask/                                                                                                                                                                                                                                                        29.jpg\n",
      "SAVED - https://www.dmarge.com/wp-content/uploads/2021/01/dwayne-the-rock-.jpg - AT: /Users/mons/Desktop/nomask/                                                                                                                                                                                                                                                        30.jpg\n",
      "SAVED - https://www.biography.com/.image/ar_8:10%2Cc_fill%2Ccs_srgb%2Cfl_progressive%2Cg_faces:center%2Cq_auto:good%2Cw_620/MTY4MzU0NDMzMjc5NzMxNjcw/julian-castro-sergio-floresbloomberg-via-getty-images-square.jpg - AT: /Users/mons/Desktop/nomask/                                                                                                                                                                                                                                                        31.jpg\n",
      "SAVED - https://encrypted-tbn0.gstatic.com/images?q=tbn:ANd9GcRt5HePnhv4TeSL77QtO_9VPU8zYb-gU0scsA&usqp=CAU - AT: /Users/mons/Desktop/nomask/                                                                                                                                                                                                                                                        32.jpg\n",
      "SAVED - https://encrypted-tbn0.gstatic.com/images?q=tbn:ANd9GcS4a6vo1kElwS4A6xZd0mA9X5yhIPJa_BCtng&usqp=CAU - AT: /Users/mons/Desktop/nomask/                                                                                                                                                                                                                                                        33.jpg\n",
      "SAVED - https://images.unsplash.com/photo-1525186402429-b4ff38bedec6?ixid=MnwxMjA3fDB8MHxzZWFyY2h8MXx8bmljZSUyMHBlcnNvbnxlbnwwfHwwfHw%3D&ixlib=rb-1.2.1&w=1000&q=80 - AT: /Users/mons/Desktop/nomask/                                                                                                                                                                                                                                                        34.jpg\n",
      "SAVED - https://encrypted-tbn0.gstatic.com/images?q=tbn:ANd9GcR_6lZEMCMNGQ7Uty7Hi_z9zMTumb0WKxquIA&usqp=CAU - AT: /Users/mons/Desktop/nomask/                                                                                                                                                                                                                                                        35.jpg\n",
      "SAVED - https://static2.srcdn.com/wordpress/wp-content/uploads/2020/05/Person-of-Interest-Season-5-Finale.jpg?q=50&fit=crop&w=960&h=500&dpr=1.5 - AT: /Users/mons/Desktop/nomask/                                                                                                                                                                                                                                                        36.jpg\n",
      "SAVED - https://images.pexels.com/photos/3841338/pexels-photo-3841338.jpeg?auto=compress&cs=tinysrgb&dpr=1&w=500 - AT: /Users/mons/Desktop/nomask/                                                                                                                                                                                                                                                        37.jpg\n",
      "SAVED - https://encrypted-tbn0.gstatic.com/images?q=tbn:ANd9GcT_kcIiGCUdlQDi5AmeHqSu-8xomV24HzGYsQ&usqp=CAU - AT: /Users/mons/Desktop/nomask/                                                                                                                                                                                                                                                        38.jpg\n",
      "SAVED - https://encrypted-tbn0.gstatic.com/images?q=tbn:ANd9GcRHoDRiyDy4oQfEW8BTcFIOLTnNxfP-BoEruA&usqp=CAU - AT: /Users/mons/Desktop/nomask/                                                                                                                                                                                                                                                        39.jpg\n",
      "SAVED - https://encrypted-tbn0.gstatic.com/images?q=tbn:ANd9GcTsSfWISndGO2kARW8GRxbGYGdOXOHQa5nVEQ&usqp=CAU - AT: /Users/mons/Desktop/nomask/                                                                                                                                                                                                                                                        40.jpg\n",
      "SAVED - https://encrypted-tbn0.gstatic.com/images?q=tbn:ANd9GcTdqhDxJm20pEDh7rODXDP3MqpZM5UOxxBNJg&usqp=CAU - AT: /Users/mons/Desktop/nomask/                                                                                                                                                                                                                                                        41.jpg\n",
      "SAVED - https://st.depositphotos.com/1269204/1219/i/950/depositphotos_12196477-stock-photo-smiling-men-isolated-on-the.jpg - AT: /Users/mons/Desktop/nomask/                                                                                                                                                                                                                                                        42.jpg\n",
      "SAVED - https://encrypted-tbn0.gstatic.com/images?q=tbn:ANd9GcQTynJDIV_Hrt-eXchhQBK0tdq7fpViVi02VA&usqp=CAU - AT: /Users/mons/Desktop/nomask/                                                                                                                                                                                                                                                        43.jpg\n"
     ]
    },
    {
     "name": "stdout",
     "output_type": "stream",
     "text": [
      "SAVED - https://static.toiimg.com/photo/82909777/82909777.jpg?v=3 - AT: /Users/mons/Desktop/nomask/                                                                                                                                                                                                                                                        44.jpg\n",
      "SAVED - https://i.ytimg.com/vi/7I8OeQs7cQA/maxresdefault.jpg - AT: /Users/mons/Desktop/nomask/                                                                                                                                                                                                                                                        45.jpg\n",
      "SAVED - https://encrypted-tbn0.gstatic.com/images?q=tbn:ANd9GcQDwnb8KCy8eejkddV5FaKsBcm1uDznQhInOQ&usqp=CAU - AT: /Users/mons/Desktop/nomask/                                                                                                                                                                                                                                                        46.jpg\n",
      "SAVED - https://thumbs.dreamstime.com/b/happy-person-portrait-smiling-woman-tanned-skin-curly-hair-happy-person-portrait-smiling-young-friendly-woman-197501184.jpg - AT: /Users/mons/Desktop/nomask/                                                                                                                                                                                                                                                        47.jpg\n",
      "SAVED - https://encrypted-tbn0.gstatic.com/images?q=tbn:ANd9GcQK9gqFKRn28xKHD1CAbEevdzsLmsv5yQkGnQ&usqp=CAU - AT: /Users/mons/Desktop/nomask/                                                                                                                                                                                                                                                        48.jpg\n",
      "SAVED - https://assets.entrepreneur.com/content/3x2/2000/20161214164224-GettyImages-533978993.jpeg - AT: /Users/mons/Desktop/nomask/                                                                                                                                                                                                                                                        49.jpg\n",
      "SAVED - https://cdn.pixabay.com/photo/2015/12/19/21/03/person-1100286_960_720.jpg - AT: /Users/mons/Desktop/nomask/                                                                                                                                                                                                                                                        50.jpg\n",
      "SAVED - https://images.indianexpress.com/2020/02/rude_1200.jpg - AT: /Users/mons/Desktop/nomask/                                                                                                                                                                                                                                                        51.jpg\n",
      "SAVED - https://images.unsplash.com/photo-1552058544-f2b08422138a?ixid=MnwxMjA3fDB8MHxzZWFyY2h8Nnx8cGVyc29ufGVufDB8fDB8fA%3D%3D&ixlib=rb-1.2.1&w=1000&q=80 - AT: /Users/mons/Desktop/nomask/                                                                                                                                                                                                                                                        52.jpg\n",
      "SAVED - https://st3.depositphotos.com/1037987/15097/i/600/depositphotos_150975580-stock-photo-portrait-of-businesswoman-in-office.jpg - AT: /Users/mons/Desktop/nomask/                                                                                                                                                                                                                                                        53.jpg\n",
      "SAVED - https://encrypted-tbn0.gstatic.com/images?q=tbn:ANd9GcS7qBMhEP_Jwyyo7F8mKhZNFA6ETwN9-klnjg&usqp=CAU - AT: /Users/mons/Desktop/nomask/                                                                                                                                                                                                                                                        54.jpg\n",
      "SAVED - https://encrypted-tbn0.gstatic.com/images?q=tbn:ANd9GcR4E6xZZ4J0cvaWjpJacFpX4Mz5-Q14yCLThA&usqp=CAU - AT: /Users/mons/Desktop/nomask/                                                                                                                                                                                                                                                        55.jpg\n",
      "SAVED - https://encrypted-tbn0.gstatic.com/images?q=tbn:ANd9GcQJDHQZkRJzuxDR9E0YM-GOMDajnjTvLGdHGQ&usqp=CAU - AT: /Users/mons/Desktop/nomask/                                                                                                                                                                                                                                                        56.jpg\n",
      "SAVED - https://eitrawmaterials.eu/wp-content/uploads/2016/09/person-icon.png - AT: /Users/mons/Desktop/nomask/                                                                                                                                                                                                                                                        57.jpg\n",
      "SAVED - https://encrypted-tbn0.gstatic.com/images?q=tbn:ANd9GcRJZG-8Pk5VYr_MOP4Ks3uEeZdArTUAizNRwg&usqp=CAU - AT: /Users/mons/Desktop/nomask/                                                                                                                                                                                                                                                        58.jpg\n",
      "SAVED - https://media.gettyimages.com/photos/young-man-working-at-home-in-the-evening-picture-id1181035364?s=612x612 - AT: /Users/mons/Desktop/nomask/                                                                                                                                                                                                                                                        59.jpg\n",
      "SAVED - https://st2.depositphotos.com/1139310/5382/i/950/depositphotos_53820477-stock-photo-flat-long-shadow-icon-of.jpg - AT: /Users/mons/Desktop/nomask/                                                                                                                                                                                                                                                        60.jpg\n",
      "SAVED - https://qodebrisbane.com/wp-content/uploads/2019/07/This-is-not-a-person-2-1.jpeg - AT: /Users/mons/Desktop/nomask/                                                                                                                                                                                                                                                        61.jpg\n",
      "SAVED - https://encrypted-tbn0.gstatic.com/images?q=tbn:ANd9GcR4zdZtNKyyMWikRMnUlg_spli9054uhUoMbw&usqp=CAU - AT: /Users/mons/Desktop/nomask/                                                                                                                                                                                                                                                        62.jpg\n",
      "SAVED - https://encrypted-tbn0.gstatic.com/images?q=tbn:ANd9GcSo11Zte3fuhQvRiKks2mvf7DhP-aXSeu7PZQ&usqp=CAU - AT: /Users/mons/Desktop/nomask/                                                                                                                                                                                                                                                        63.jpg\n",
      "SAVED - https://specials-images.forbesimg.com/imageserve/60ab995dbe7dcc922ab5b642/1960x0.jpg?fit=scale - AT: /Users/mons/Desktop/nomask/                                                                                                                                                                                                                                                        64.jpg\n",
      "SAVED - https://encrypted-tbn0.gstatic.com/images?q=tbn:ANd9GcQt0_JYlqoy-vSsgcDUR1DVzDsU5xGZ0yDrWA&usqp=CAU - AT: /Users/mons/Desktop/nomask/                                                                                                                                                                                                                                                        65.jpg\n"
     ]
    },
    {
     "name": "stdout",
     "output_type": "stream",
     "text": [
      "SAVED - https://img.freepik.com/free-photo/mand-holding-cup_1258-340.jpg?size=626&ext=jpg - AT: /Users/mons/Desktop/nomask/                                                                                                                                                                                                                                                        66.jpg\n",
      "SAVED - https://content.fortune.com/wp-content/uploads/2018/07/gettyimages-961697338.jpg - AT: /Users/mons/Desktop/nomask/                                                                                                                                                                                                                                                        67.jpg\n",
      "SAVED - https://st3.depositphotos.com/9881890/16378/i/600/depositphotos_163785870-stock-photo-blonde-smiling-businesswoman.jpg - AT: /Users/mons/Desktop/nomask/                                                                                                                                                                                                                                                        68.jpg\n",
      "SAVED - https://encrypted-tbn0.gstatic.com/images?q=tbn:ANd9GcRoKflqx5TkV0T_pKOSHhW7CtTz-5HhFB9HaA&usqp=CAU - AT: /Users/mons/Desktop/nomask/                                                                                                                                                                                                                                                        69.jpg\n",
      "SAVED - https://images.unsplash.com/photo-1554151228-14d9def656e4?ixid=MnwxMjA3fDB8MHxzZWFyY2h8NHx8cGVyc29ufGVufDB8fDB8fA%3D%3D&ixlib=rb-1.2.1&w=1000&q=80 - AT: /Users/mons/Desktop/nomask/                                                                                                                                                                                                                                                        70.jpg\n",
      "SAVED - https://media.gettyimages.com/photos/he-knows-exactly-where-his-money-goes-picture-id1150533032?s=612x612 - AT: /Users/mons/Desktop/nomask/                                                                                                                                                                                                                                                        71.jpg\n",
      "SAVED - https://encrypted-tbn0.gstatic.com/images?q=tbn:ANd9GcQOu8c3lNs8UFGmyjr-KGJLiUClAL2pyDlr9A&usqp=CAU - AT: /Users/mons/Desktop/nomask/                                                                                                                                                                                                                                                        72.jpg\n",
      "SAVED - https://img.youtube.com/vi/mZtu8HOwcUc/hqdefault.jpg - AT: /Users/mons/Desktop/nomask/                                                                                                                                                                                                                                                        73.jpg\n",
      "SAVED - https://bsmedia.business-standard.com/_media/bs/img/article/2020-11/18/full/1605681784-7704.jpg - AT: /Users/mons/Desktop/nomask/                                                                                                                                                                                                                                                        74.jpg\n",
      "SAVED - https://nmaahc.si.edu/sites/default/files/styles/featured_image_16x9/public/images/header/audience-citizen_0.jpg?itok=yoGQec7Q - AT: /Users/mons/Desktop/nomask/                                                                                                                                                                                                                                                        75.jpg\n",
      "SAVED - https://encrypted-tbn0.gstatic.com/images?q=tbn:ANd9GcRd66mh4P_PpUc3xgUqq9GPAhQ3JqJOrInaHQ&usqp=CAU - AT: /Users/mons/Desktop/nomask/                                                                                                                                                                                                                                                        76.jpg\n",
      "SAVED - https://encrypted-tbn0.gstatic.com/images?q=tbn:ANd9GcQmHba406RK-mGJfIduykKOh-sV396u645BGA&usqp=CAU - AT: /Users/mons/Desktop/nomask/                                                                                                                                                                                                                                                        77.jpg\n",
      "SAVED - https://img.freepik.com/free-photo/cheerful-curly-business-girl-wearing-glasses_176420-206.jpg?size=626&ext=jpg - AT: /Users/mons/Desktop/nomask/                                                                                                                                                                                                                                                        78.jpg\n",
      "SAVED - https://lh3.googleusercontent.com/proxy/IcNjbV0ANBwJ4zMIVtBQJQozWUHeOqa9L8h3Dy0mZZe7IF5WblbmkgEnN5e4JtYYN96ROayuzPiq65_zz5LG8Edx1Ejc6sUV8dEje9awrDoM0TSn_vbFoVaKNxd9yswrIpHyG9EpUutVFL8 - AT: /Users/mons/Desktop/nomask/                                                                                                                                                                                                                                                        79.jpg\n",
      "SAVED - https://encrypted-tbn0.gstatic.com/images?q=tbn:ANd9GcRnOj_Nz_Z9MdM0klmEfAkKOUG-p6Xq6YPGbA&usqp=CAU - AT: /Users/mons/Desktop/nomask/                                                                                                                                                                                                                                                        80.jpg\n",
      "SAVED - https://encrypted-tbn0.gstatic.com/images?q=tbn:ANd9GcQbWceP7eg-psONeXVYx-ZJPN5lKfqkseBcQA&usqp=CAU - AT: /Users/mons/Desktop/nomask/                                                                                                                                                                                                                                                        81.jpg\n",
      "SAVED - https://www.hueconstruction.co.uk/wp-content/uploads/2016/04/Picture-of-person.png - AT: /Users/mons/Desktop/nomask/                                                                                                                                                                                                                                                        82.jpg\n",
      "SAVED - https://encrypted-tbn0.gstatic.com/images?q=tbn:ANd9GcTV_P7mO_NA8WbmSJs1ivPIydvdEGI8hs-ZQQ&usqp=CAU - AT: /Users/mons/Desktop/nomask/                                                                                                                                                                                                                                                        83.jpg\n",
      "SAVED - https://www.healthshots.com/wp-content/uploads/2020/11/toxic-person-quiz.jpg - AT: /Users/mons/Desktop/nomask/                                                                                                                                                                                                                                                        84.jpg\n",
      "SAVED - https://image.shutterstock.com/image-photo/many-happy-diverse-ethnicity-different-260nw-1733872811.jpg - AT: /Users/mons/Desktop/nomask/                                                                                                                                                                                                                                                        85.jpg\n",
      "SAVED - https://api.time.com/wp-content/uploads/2017/12/terry-crews-person-of-year-2017-time-magazine-2.jpg - AT: /Users/mons/Desktop/nomask/                                                                                                                                                                                                                                                        86.jpg\n"
     ]
    },
    {
     "name": "stdout",
     "output_type": "stream",
     "text": [
      "SAVED - https://images.pexels.com/photos/3772771/pexels-photo-3772771.jpeg?auto=compress&cs=tinysrgb&dpr=1&w=500 - AT: /Users/mons/Desktop/nomask/                                                                                                                                                                                                                                                        87.jpg\n",
      "SAVED - https://image.shutterstock.com/image-photo/multi-ethnic-people-different-age-260nw-1733849612.jpg - AT: /Users/mons/Desktop/nomask/                                                                                                                                                                                                                                                        88.jpg\n",
      "SAVED - https://encrypted-tbn0.gstatic.com/images?q=tbn:ANd9GcQxrcp37OMk5VPHX_iXqMZ1w5tXZyuvXV6IVg&usqp=CAU - AT: /Users/mons/Desktop/nomask/                                                                                                                                                                                                                                                        89.jpg\n",
      "SAVED - https://encrypted-tbn0.gstatic.com/images?q=tbn:ANd9GcSMeWZkFM4LzBmhRPXmy97tN2lbDXCEpqqn3A&usqp=CAU - AT: /Users/mons/Desktop/nomask/                                                                                                                                                                                                                                                        90.jpg\n",
      "SAVED - https://encrypted-tbn0.gstatic.com/images?q=tbn:ANd9GcTIYQx2Gal_DqesM8rz6a2wr2Ot7haSJxBQZw&usqp=CAU - AT: /Users/mons/Desktop/nomask/                                                                                                                                                                                                                                                        91.jpg\n",
      "SAVED - https://img.freepik.com/free-photo/smiling-asian-man-using-tablet-computer_1262-18324.jpg?size=626&ext=jpg - AT: /Users/mons/Desktop/nomask/                                                                                                                                                                                                                                                        92.jpg\n",
      "SAVED - https://encrypted-tbn0.gstatic.com/images?q=tbn:ANd9GcQ1deUf-Acl5IbdQgjOr4CApClk6qR9kONi2A&usqp=CAU - AT: /Users/mons/Desktop/nomask/                                                                                                                                                                                                                                                        93.jpg\n",
      "SAVED - https://mk0qomafemocnned3wjh.kinstacdn.com/wp-content/uploads/2019/02/AI-thispersondoesnotexist.jpg - AT: /Users/mons/Desktop/nomask/                                                                                                                                                                                                                                                        94.jpg\n",
      "SAVED - https://encrypted-tbn0.gstatic.com/images?q=tbn:ANd9GcRdLHGdyMZvBFR42XDWnF5GUcBD9zshSnKVSg&usqp=CAU - AT: /Users/mons/Desktop/nomask/                                                                                                                                                                                                                                                        95.jpg\n",
      "SAVED - https://encrypted-tbn0.gstatic.com/images?q=tbn:ANd9GcTdqn__dh721ZfVn2SRw6pugqdBsRKiZ1Ytng&usqp=CAU - AT: /Users/mons/Desktop/nomask/                                                                                                                                                                                                                                                        96.jpg\n",
      "SAVED - https://media.gettyimages.com/photos/mature-latin-american-businesswoman-working-from-home-picture-id1207315307?s=612x612 - AT: /Users/mons/Desktop/nomask/                                                                                                                                                                                                                                                        97.jpg\n",
      "SAVED - https://blogs-images.forbes.com/danschawbel/files/2017/12/Dan-Schawbel_avatar_1512422077-400x400.jpg - AT: /Users/mons/Desktop/nomask/                                                                                                                                                                                                                                                        98.jpg\n",
      "SAVED - https://st4.depositphotos.com/12982378/22072/i/600/depositphotos_220729084-stock-photo-smiling-adult-man-crossed-arms.jpg - AT: /Users/mons/Desktop/nomask/                                                                                                                                                                                                                                                        99.jpg\n",
      "SAVED - https://encrypted-tbn0.gstatic.com/images?q=tbn:ANd9GcSZKtdoYgBrGLeu8xaVACCyfE6CcD8SbZAdjQ&usqp=CAU - AT: /Users/mons/Desktop/nomask/                                                                                                                                                                                                                                                       100.jpg\n",
      "SAVED - https://encrypted-tbn0.gstatic.com/images?q=tbn:ANd9GcTh4W3HwFL-23f0qXDrZXVov9jgZ1I-kz0HUA&usqp=CAU - AT: /Users/mons/Desktop/nomask/                                                                                                                                                                                                                                                       101.jpg\n",
      "SAVED - https://images.unsplash.com/photo-1544005313-94ddf0286df2?ixid=MnwxMjA3fDB8MHxzZWFyY2h8OXx8cGVyc29ufGVufDB8fDB8fA%3D%3D&ixlib=rb-1.2.1&w=1000&q=80 - AT: /Users/mons/Desktop/nomask/                                                                                                                                                                                                                                                       102.jpg\n",
      "SAVED - https://mk0ebizfilingcow6a4i.kinstacdn.com/wp-content/uploads/2017/12/images_20-3.jpg - AT: /Users/mons/Desktop/nomask/                                                                                                                                                                                                                                                       103.jpg\n",
      "SAVED - https://encrypted-tbn0.gstatic.com/images?q=tbn:ANd9GcT0XxXKldGMY3Q-yKJtTEoM6YJuIwICHhpysw&usqp=CAU - AT: /Users/mons/Desktop/nomask/                                                                                                                                                                                                                                                       104.jpg\n",
      "SAVED - https://encrypted-tbn0.gstatic.com/images?q=tbn:ANd9GcSJfa758-9Zet25uR43OnWUDxPh_5ivrKWg4g&usqp=CAU - AT: /Users/mons/Desktop/nomask/                                                                                                                                                                                                                                                       105.jpg\n",
      "SAVED - https://encrypted-tbn0.gstatic.com/images?q=tbn:ANd9GcRCspuKHWboXmD86GCivrV1LbRw6TzS08msFA&usqp=CAU - AT: /Users/mons/Desktop/nomask/                                                                                                                                                                                                                                                       106.jpg\n",
      "SAVED - https://encrypted-tbn0.gstatic.com/images?q=tbn:ANd9GcTRn3ZE_ELxmwpy8TOoL949dSx7kreOV8PG1w&usqp=CAU - AT: /Users/mons/Desktop/nomask/                                                                                                                                                                                                                                                       107.jpg\n"
     ]
    },
    {
     "name": "stdout",
     "output_type": "stream",
     "text": [
      "SAVED - https://api.time.com/wp-content/uploads/2017/12/terry-crews-person-of-year-2017-time-magazine-facebook-1.jpg?quality=85 - AT: /Users/mons/Desktop/nomask/                                                                                                                                                                                                                                                       108.jpg\n",
      "SAVED - https://encrypted-tbn0.gstatic.com/images?q=tbn:ANd9GcQikgkSiVP98QmireW5lSO8Squ5Ump6busHew&usqp=CAU - AT: /Users/mons/Desktop/nomask/                                                                                                                                                                                                                                                       109.jpg\n",
      "SAVED - https://encrypted-tbn0.gstatic.com/images?q=tbn:ANd9GcSCThi5j1uwZ41zjKSU5_1dg5y1Ss64h4eeOQ&usqp=CAU - AT: /Users/mons/Desktop/nomask/                                                                                                                                                                                                                                                       110.jpg\n",
      "SAVED - https://images.unsplash.com/photo-1438761681033-6461ffad8d80?ixid=MnwxMjA3fDB8MHxzZWFyY2h8Mnx8cGVyc29ufGVufDB8fDB8fA%3D%3D&ixlib=rb-1.2.1&w=1000&q=80 - AT: /Users/mons/Desktop/nomask/                                                                                                                                                                                                                                                       111.jpg\n",
      "SAVED - https://images.unsplash.com/photo-1547425260-76bcadfb4f2c?ixid=MnwxMjA3fDB8MHxzZWFyY2h8M3x8cGVyc29ufGVufDB8fDB8fA%3D%3D&ixlib=rb-1.2.1&w=1000&q=80 - AT: /Users/mons/Desktop/nomask/                                                                                                                                                                                                                                                       112.jpg\n",
      "SAVED - https://encrypted-tbn0.gstatic.com/images?q=tbn:ANd9GcQpyz-OqHFC2XEA-ZZJY0GjTMlb1MRHrrVPsQ&usqp=CAU - AT: /Users/mons/Desktop/nomask/                                                                                                                                                                                                                                                       113.jpg\n",
      "SAVED - https://encrypted-tbn0.gstatic.com/images?q=tbn:ANd9GcQQ-3SqI5r1u0hNbXEJE-GmB3Gfn-6S_iYgbg&usqp=CAU - AT: /Users/mons/Desktop/nomask/                                                                                                                                                                                                                                                       114.jpg\n",
      "SAVED - https://images.unsplash.com/photo-1618593706014-06782cd3bb3b?ixid=MnwxMjA3fDB8MHxzZWFyY2h8Mnx8cmVhbCUyMHBlcnNvbnxlbnwwfHwwfHw%3D&ixlib=rb-1.2.1&w=1000&q=80 - AT: /Users/mons/Desktop/nomask/                                                                                                                                                                                                                                                       115.jpg\n",
      "SAVED - https://api.time.com/wp-content/uploads/2019/12/time-person-of-the-year-kamala-harris-portrait.jpg?w=824&h=458&quality=70 - AT: /Users/mons/Desktop/nomask/                                                                                                                                                                                                                                                       116.jpg\n",
      "SAVED - https://encrypted-tbn0.gstatic.com/images?q=tbn:ANd9GcTeyEzPem4JSvvibkNSJuBK_Vkh6gT4nDE5BQ&usqp=CAU - AT: /Users/mons/Desktop/nomask/                                                                                                                                                                                                                                                       117.jpg\n",
      "SAVED - https://i1.wp.com/highlysensitiverefuge.com/wp-content/uploads/2018/08/what-is-highly-sensitive-person-meaning.jpg?resize=1150%2C701&ssl=1 - AT: /Users/mons/Desktop/nomask/                                                                                                                                                                                                                                                       118.jpg\n",
      "SAVED - https://encrypted-tbn0.gstatic.com/images?q=tbn:ANd9GcQIKGY5HZer9BmbgKBQuZNE9ThGcpfyrwsk_Q&usqp=CAU - AT: /Users/mons/Desktop/nomask/                                                                                                                                                                                                                                                       119.jpg\n",
      "SAVED - https://cdn2.lamag.com/wp-content/uploads/sites/6/2019/06/keanu-reeves-person-of-the-year-karwai-tang-getty.jpg - AT: /Users/mons/Desktop/nomask/                                                                                                                                                                                                                                                       120.jpg\n",
      "SAVED - https://encrypted-tbn0.gstatic.com/images?q=tbn:ANd9GcT6oorTlQOBCIDrHAR4UudUXlder2TvxLwUHA&usqp=CAU - AT: /Users/mons/Desktop/nomask/                                                                                                                                                                                                                                                       121.jpg\n",
      "SAVED - https://image.shutterstock.com/image-vector/set-different-person-portrait-big-260nw-1736944040.jpg - AT: /Users/mons/Desktop/nomask/                                                                                                                                                                                                                                                       122.jpg\n",
      "SAVED - https://encrypted-tbn0.gstatic.com/images?q=tbn:ANd9GcSaQgaXaYGWK0JUno3kXJSIndakOTgtt7rTiA&usqp=CAU - AT: /Users/mons/Desktop/nomask/                                                                                                                                                                                                                                                       123.jpg\n",
      "SAVED - https://encrypted-tbn0.gstatic.com/images?q=tbn:ANd9GcQUFEBInDzkHFDEb3g-3qI7kaqpaZaGLz72Lg&usqp=CAU - AT: /Users/mons/Desktop/nomask/                                                                                                                                                                                                                                                       124.jpg\n",
      "SAVED - https://img.etimg.com/thumb/msid-72141096,width-640,resizemode-4,imgsize-273004/animal-advocacy-efforts.jpg - AT: /Users/mons/Desktop/nomask/                                                                                                                                                                                                                                                       125.jpg\n",
      "SAVED - https://www.avert.org/sites/default/files/PLHIV%20Young%20person%20female_0.jpg - AT: /Users/mons/Desktop/nomask/                                                                                                                                                                                                                                                       126.jpg\n",
      "SAVED - https://thispersondoesnotexist.com/image? - AT: /Users/mons/Desktop/nomask/                                                                                                                                                                                                                                                       127.jpg\n",
      "SAVED - https://image.shutterstock.com/image-photo/collection-full-length-portrait-people-260nw-1930938029.jpg - AT: /Users/mons/Desktop/nomask/                                                                                                                                                                                                                                                       128.jpg\n"
     ]
    },
    {
     "name": "stdout",
     "output_type": "stream",
     "text": [
      "SAVED - https://img.freepik.com/free-photo/confident-young-man_1098-20868.jpg?size=626&ext=jpg - AT: /Users/mons/Desktop/nomask/                                                                                                                                                                                                                                                       129.jpg\n",
      "SAVED - https://encrypted-tbn0.gstatic.com/images?q=tbn:ANd9GcSaOe5mreqOpNXUmb9-5Qlt6VB0nBkEg6QkqQ&usqp=CAU - AT: /Users/mons/Desktop/nomask/                                                                                                                                                                                                                                                       130.jpg\n",
      "SAVED - https://encrypted-tbn0.gstatic.com/images?q=tbn:ANd9GcTsyAY09Skz2WsEZjo6YnHKp2AObo7VT4WHbA&usqp=CAU - AT: /Users/mons/Desktop/nomask/                                                                                                                                                                                                                                                       131.jpg\n",
      "SAVED - https://ichef.bbci.co.uk/news/1024/branded_news/145FC/production/_115525438_elonmusk.jpg - AT: /Users/mons/Desktop/nomask/                                                                                                                                                                                                                                                       132.jpg\n",
      "SAVED - https://upload.wikimedia.org/wikipedia/commons/thumb/d/d8/Person_icon_BLACK-01.svg/1200px-Person_icon_BLACK-01.svg.png - AT: /Users/mons/Desktop/nomask/                                                                                                                                                                                                                                                       133.jpg\n",
      "SAVED - https://encrypted-tbn0.gstatic.com/images?q=tbn:ANd9GcS_lqqlPnlfvS7BPtsnfpsurdXp_G2ZERoNzw&usqp=CAU - AT: /Users/mons/Desktop/nomask/                                                                                                                                                                                                                                                       134.jpg\n",
      "SAVED - https://cdn.pixabay.com/photo/2015/11/20/17/29/person-1053543_960_720.jpg - AT: /Users/mons/Desktop/nomask/                                                                                                                                                                                                                                                       135.jpg\n",
      "SAVED - https://encrypted-tbn0.gstatic.com/images?q=tbn:ANd9GcRWZ2sI9ORG5Infvka4QR0z2-Mwcm3KBtjXyw&usqp=CAU - AT: /Users/mons/Desktop/nomask/                                                                                                                                                                                                                                                       136.jpg\n",
      "SAVED - https://encrypted-tbn0.gstatic.com/images?q=tbn:ANd9GcTnDjnV9iVyqo2ikTER97CUEoUpMStFx0u75g&usqp=CAU - AT: /Users/mons/Desktop/nomask/                                                                                                                                                                                                                                                       137.jpg\n",
      "SAVED - https://encrypted-tbn0.gstatic.com/images?q=tbn:ANd9GcTOc9VDs02ZrmIC7pS3WzBTvXl8UrI3jwAOVQ&usqp=CAU - AT: /Users/mons/Desktop/nomask/                                                                                                                                                                                                                                                       138.jpg\n",
      "SAVED - https://encrypted-tbn0.gstatic.com/images?q=tbn:ANd9GcT-586OFCzVt55s5IfkkvcTiLsJz5Q9Yvp4CQ&usqp=CAU - AT: /Users/mons/Desktop/nomask/                                                                                                                                                                                                                                                       139.jpg\n",
      "SAVED - https://www.diethelmtravel.com/wp-content/uploads/2016/04/bill-gates-wealthiest-person.jpg - AT: /Users/mons/Desktop/nomask/                                                                                                                                                                                                                                                       140.jpg\n",
      "SAVED - https://cdn.pixabay.com/photo/2015/12/09/04/27/a-single-person-1084191_960_720.jpg - AT: /Users/mons/Desktop/nomask/                                                                                                                                                                                                                                                       141.jpg\n",
      "SAVED - https://www.aconsciousrethink.com/wp-content/uploads/2019/05/reserved-person-line.jpg - AT: /Users/mons/Desktop/nomask/                                                                                                                                                                                                                                                       142.jpg\n",
      "SAVED - https://img.jagranjosh.com/images/2021/February/1522021/One-Person-Company.jpg - AT: /Users/mons/Desktop/nomask/                                                                                                                                                                                                                                                       143.jpg\n",
      "SAVED - https://cdn-0.idownloadblog.com/wp-content/uploads/2019/07/Add-Person-to-People-Album-Photos-App.jpg - AT: /Users/mons/Desktop/nomask/                                                                                                                                                                                                                                                       144.jpg\n",
      "SAVED - https://encrypted-tbn0.gstatic.com/images?q=tbn:ANd9GcQDw4qOm9l805aSaZaEi8-8ODu-pYK657PALA&usqp=CAU - AT: /Users/mons/Desktop/nomask/                                                                                                                                                                                                                                                       145.jpg\n",
      "SAVED - https://encrypted-tbn0.gstatic.com/images?q=tbn:ANd9GcSH63vWsedJAkCe4GvZ-w148eF2L9v99auiIA&usqp=CAU - AT: /Users/mons/Desktop/nomask/                                                                                                                                                                                                                                                       146.jpg\n",
      "SAVED - https://images.unsplash.com/flagged/photo-1570612861542-284f4c12e75f?ixid=MnwxMjA3fDB8MHxzZWFyY2h8MXx8cGVyc29ufGVufDB8fDB8fA%3D%3D&ixlib=rb-1.2.1&w=1000&q=80 - AT: /Users/mons/Desktop/nomask/                                                                                                                                                                                                                                                       147.jpg\n",
      "SAVED - https://upload.wikimedia.org/wikipedia/commons/a/a0/Pierre-Person.jpg - AT: /Users/mons/Desktop/nomask/                                                                                                                                                                                                                                                       148.jpg\n",
      "SAVED - https://encrypted-tbn0.gstatic.com/images?q=tbn:ANd9GcRf35z7U6Q_6Dv93qw7ZBvehE2iJYM14VDvmA&usqp=CAU - AT: /Users/mons/Desktop/nomask/                                                                                                                                                                                                                                                       149.jpg\n",
      "SAVED - https://encrypted-tbn0.gstatic.com/images?q=tbn:ANd9GcQ_IwLURrnwl5oUP-vZJDqB2ZnI85hep7aIuA&usqp=CAU - AT: /Users/mons/Desktop/nomask/                                                                                                                                                                                                                                                       150.jpg\n"
     ]
    },
    {
     "name": "stdout",
     "output_type": "stream",
     "text": [
      "SAVED - https://i.ytimg.com/vi/h40Ogiq32Ps/maxresdefault.jpg - AT: /Users/mons/Desktop/nomask/                                                                                                                                                                                                                                                       151.jpg\n",
      "SAVED - https://encrypted-tbn0.gstatic.com/images?q=tbn:ANd9GcTeKZYYfBtlYAVrWfSk1xL-h2RYJ99059nA-A&usqp=CAU - AT: /Users/mons/Desktop/nomask/                                                                                                                                                                                                                                                       152.jpg\n",
      "SAVED - https://encrypted-tbn0.gstatic.com/images?q=tbn:ANd9GcTYMx1bx9W-L2lS15GP2jbBplVDSUSIgZ7jWw&usqp=CAU - AT: /Users/mons/Desktop/nomask/                                                                                                                                                                                                                                                       153.jpg\n",
      "SAVED - https://encrypted-tbn0.gstatic.com/images?q=tbn:ANd9GcQxAGxfNTh1-fpWni1AjUbw5kf-icGY_d2u-Q&usqp=CAU - AT: /Users/mons/Desktop/nomask/                                                                                                                                                                                                                                                       154.jpg\n",
      "SAVED - https://encrypted-tbn0.gstatic.com/images?q=tbn:ANd9GcQ0Zo9HM_R3PnPXGdjB6A7R9eN3G6wqVIvQjw&usqp=CAU - AT: /Users/mons/Desktop/nomask/                                                                                                                                                                                                                                                       155.jpg\n",
      "SAVED - https://encrypted-tbn0.gstatic.com/images?q=tbn:ANd9GcSEQW4eCinRxB1z4tKkxWSyAoCO1H0gdArzFQ&usqp=CAU - AT: /Users/mons/Desktop/nomask/                                                                                                                                                                                                                                                       156.jpg\n",
      "SAVED - https://thispersondoesnotexist.com/image - AT: /Users/mons/Desktop/nomask/                                                                                                                                                                                                                                                       157.jpg\n",
      "SAVED - https://encrypted-tbn0.gstatic.com/images?q=tbn:ANd9GcS22STm_OFS6SKvuKC6Jqv3TJbOZyPS9irm6w&usqp=CAU - AT: /Users/mons/Desktop/nomask/                                                                                                                                                                                                                                                       158.jpg\n",
      "SAVED - https://media.gettyimages.com/photos/using-mobile-phone-picture-id1147785920?s=612x612 - AT: /Users/mons/Desktop/nomask/                                                                                                                                                                                                                                                       159.jpg\n",
      "SAVED - https://www.glassdoor.com/blog/app/uploads/sites/2/why-are-you-the-best-person-for-this-job-724x450.jpg - AT: /Users/mons/Desktop/nomask/                                                                                                                                                                                                                                                       160.jpg\n",
      "SAVED - https://i0.wp.com/post.medicalnewstoday.com/wp-content/uploads/sites/3/2020/04/GettyImages-688402807_header-1024x575.jpg?w=1155&h=1528 - AT: /Users/mons/Desktop/nomask/                                                                                                                                                                                                                                                       161.jpg\n",
      "SAVED - https://globalnews.ca/wp-content/uploads/2017/05/oldestmanthumb.jpg?quality=85&strip=all&w=720&h=379&crop=1 - AT: /Users/mons/Desktop/nomask/                                                                                                                                                                                                                                                       162.jpg\n",
      "SAVED - https://encrypted-tbn0.gstatic.com/images?q=tbn:ANd9GcRdzcEmbly6Vb65jnL2wEJvdlFBlBjEo2h3Qg&usqp=CAU - AT: /Users/mons/Desktop/nomask/                                                                                                                                                                                                                                                       163.jpg\n",
      "SAVED - https://encrypted-tbn0.gstatic.com/images?q=tbn:ANd9GcQdJEujGRJLwn0mXDhNlJBRImuGOGz3L02mZQ&usqp=CAU - AT: /Users/mons/Desktop/nomask/                                                                                                                                                                                                                                                       164.jpg\n",
      "SAVED - https://machinecurve.com/wp-content/uploads/2019/07/thispersondoesnotexist-1-1022x1024.jpg - AT: /Users/mons/Desktop/nomask/                                                                                                                                                                                                                                                       165.jpg\n",
      "SAVED - https://encrypted-tbn0.gstatic.com/images?q=tbn:ANd9GcSpNl2gOe1WzU0sClQ6F45jWMUy6XF70DXDoQ&usqp=CAU - AT: /Users/mons/Desktop/nomask/                                                                                                                                                                                                                                                       166.jpg\n",
      "SAVED - https://img.freepik.com/free-photo/pleased-handsome-businessman-pointing-person-making-good-point-nice-job-praising-employee-saying-well-done_176420-21751.jpg?size=626&ext=jpg&ga=GA1.2.1687155513.1623196800 - AT: /Users/mons/Desktop/nomask/                                                                                                                                                                                                                                                       167.jpg\n",
      "SAVED - https://encrypted-tbn0.gstatic.com/images?q=tbn:ANd9GcRmxEVcYXelFAsbImwHv0xmnk7ZBNnMvxfhPA&usqp=CAU - AT: /Users/mons/Desktop/nomask/                                                                                                                                                                                                                                                       168.jpg\n",
      "SAVED - https://images.livemint.com/img/2019/03/26/600x338/comp_1553598606134.jpg - AT: /Users/mons/Desktop/nomask/                                                                                                                                                                                                                                                       169.jpg\n",
      "SAVED - https://encrypted-tbn0.gstatic.com/images?q=tbn:ANd9GcRVzcUGslfVPVqes4Z0oY0vaSifqQ626RLUAw&usqp=CAU - AT: /Users/mons/Desktop/nomask/                                                                                                                                                                                                                                                       170.jpg\n",
      "SAVED - https://images.unsplash.com/photo-1555421689-d68471e189f2?ixid=MnwxMjA3fDB8MHxzZWFyY2h8MXx8cmVhbCUyMHBlcnNvbnxlbnwwfHwwfHw%3D&ixlib=rb-1.2.1&w=1000&q=80 - AT: /Users/mons/Desktop/nomask/                                                                                                                                                                                                                                                       171.jpg\n",
      "SAVED - https://encrypted-tbn0.gstatic.com/images?q=tbn:ANd9GcQ3VzQ80AFH0E3KoK7HOA1W9nCbL31p7X8_ZQ&usqp=CAU - AT: /Users/mons/Desktop/nomask/                                                                                                                                                                                                                                                       172.jpg\n"
     ]
    },
    {
     "name": "stdout",
     "output_type": "stream",
     "text": [
      "SAVED - https://trak.in/wp-content/uploads/2020/12/5c93b4a4daa507033b17202a-1024x512-1280x720-1024x576.jpeg - AT: /Users/mons/Desktop/nomask/                                                                                                                                                                                                                                                       173.jpg\n"
     ]
    }
   ],
   "source": [
    "os.chdir('/Users/mons/Desktop/DL project/data/nomask')\n",
    "baseDir=os.getcwd()\n",
    "\n",
    "for i, url in enumerate(img_urls):\n",
    "    file_name = f\"{i:250}.jpg\"    \n",
    "    try:\n",
    "        image_content = requests.get(url).content\n",
    "\n",
    "    except Exception as e:\n",
    "        print(f\"ERROR - COULD NOT DOWNLOAD {url} - {e}\")\n",
    "\n",
    "    try:\n",
    "        image_file = io.BytesIO(image_content)\n",
    "        image = Image.open(image_file).convert('RGB')\n",
    "        \n",
    "        file_path = os.path.join(baseDir, file_name)\n",
    "        \n",
    "        with open(file_path, 'wb') as f:\n",
    "            image.save(f, \"JPEG\", quality=85)\n",
    "        print(f\"SAVED - {url} - AT: {file_path}\")\n",
    "    except Exception as e:\n",
    "        print(f\"ERROR - COULD NOT SAVE {url} - {e}\")"
   ]
  }
 ],
 "metadata": {
  "kernelspec": {
   "display_name": "Python 3",
   "language": "python",
   "name": "python3"
  },
  "language_info": {
   "codemirror_mode": {
    "name": "ipython",
    "version": 3
   },
   "file_extension": ".py",
   "mimetype": "text/x-python",
   "name": "python",
   "nbconvert_exporter": "python",
   "pygments_lexer": "ipython3",
   "version": "3.6.13"
  }
 },
 "nbformat": 4,
 "nbformat_minor": 4
}
